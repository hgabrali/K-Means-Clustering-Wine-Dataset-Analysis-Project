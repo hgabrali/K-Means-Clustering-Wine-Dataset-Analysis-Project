{
  "nbformat": 4,
  "nbformat_minor": 0,
  "metadata": {
    "colab": {
      "provenance": [],
      "authorship_tag": "ABX9TyPcMvrA/ATBjwqpnPIbydm1",
      "include_colab_link": true
    },
    "kernelspec": {
      "name": "python3",
      "display_name": "Python 3"
    },
    "language_info": {
      "name": "python"
    }
  },
  "cells": [
    {
      "cell_type": "markdown",
      "metadata": {
        "id": "view-in-github",
        "colab_type": "text"
      },
      "source": [
        "<a href=\"https://colab.research.google.com/github/hgabrali/K-Means-Clustering-Wine-Dataset-Analysis-Project/blob/main/K_Means_Clustering_Wine_Dataset_Analysis.ipynb\" target=\"_parent\"><img src=\"https://colab.research.google.com/assets/colab-badge.svg\" alt=\"Open In Colab\"/></a>"
      ]
    },
    {
      "cell_type": "markdown",
      "source": [
        "# **K-Means Clustering: Wine Dataset Analysis**"
      ],
      "metadata": {
        "id": "Hj2IXdi67heJ"
      }
    },
    {
      "cell_type": "code",
      "execution_count": null,
      "metadata": {
        "id": "ZmVv3LvH7cwS"
      },
      "outputs": [],
      "source": []
    }
  ]
}